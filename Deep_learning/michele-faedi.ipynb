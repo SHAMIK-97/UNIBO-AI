{
 "cells": [
  {
   "cell_type": "code",
   "execution_count": 1,
   "id": "537f091f",
   "metadata": {},
   "outputs": [],
   "source": [
    "import numpy as np\n",
    "import tensorflow as tf\n",
    "from tensorflow import keras\n",
    "import pandas as pd\n",
    "import matplotlib.pyplot as plt"
   ]
  },
  {
   "cell_type": "code",
   "execution_count": 73,
   "id": "2b2fd862",
   "metadata": {},
   "outputs": [
    {
     "name": "stdout",
     "output_type": "stream",
     "text": [
      "1    2867\n",
      "2     620\n",
      "0     230\n",
      "Name: class, dtype: int64\n"
     ]
    }
   ],
   "source": [
    "import os\n",
    "import pathlib\n",
    "\n",
    "df_train = pd.read_csv ('train_data.csv', sep=\",\")\n",
    "df_val = pd.read_csv ('val_data.csv', sep=\",\")\n",
    "df_test = pd.read_csv ('test_data.csv', sep=\",\")\n",
    "\n",
    "classes = df_train[\"class\"].value_counts()\n",
    "print(classes)"
   ]
  },
  {
   "cell_type": "code",
   "execution_count": 74,
   "id": "026585ea",
   "metadata": {},
   "outputs": [],
   "source": [
    "import re\n",
    "def pre_process(df):\n",
    "    def tweet_pre_process(tweet):\n",
    "        ret = re.sub(\"RT @(.)+?:\\s|(&#[0-9]+;)|@([\\w\\-]+)|(#)\\S+|(http)s?\\S+|&gt;|^\\s+|\\b\\s+|\\n\", \"\", tweet)\n",
    "        ret = re.sub(\"\\s\\s+|[^a-zA-Z\\d\\s:]\" , \" \", ret).rstrip().lower()\n",
    "        return ret\n",
    "    return df[\"tweet\"].apply(tweet_pre_process)"
   ]
  },
  {
   "cell_type": "code",
   "execution_count": 75,
   "id": "4f499620",
   "metadata": {},
   "outputs": [],
   "source": [
    "df_train[\"tweet\"] = pre_process(df_train)\n",
    "df_val[\"tweet\"] = pre_process(df_val)\n",
    "df_test[\"tweet\"] = pre_process(df_test)"
   ]
  },
  {
   "cell_type": "code",
   "execution_count": 76,
   "id": "8863051e",
   "metadata": {},
   "outputs": [
    {
     "data": {
      "text/html": [
       "<div>\n",
       "<style scoped>\n",
       "    .dataframe tbody tr th:only-of-type {\n",
       "        vertical-align: middle;\n",
       "    }\n",
       "\n",
       "    .dataframe tbody tr th {\n",
       "        vertical-align: top;\n",
       "    }\n",
       "\n",
       "    .dataframe thead th {\n",
       "        text-align: right;\n",
       "    }\n",
       "</style>\n",
       "<table border=\"1\" class=\"dataframe\">\n",
       "  <thead>\n",
       "    <tr style=\"text-align: right;\">\n",
       "      <th></th>\n",
       "      <th>Unnamed: 0</th>\n",
       "      <th>count</th>\n",
       "      <th>hate_speech</th>\n",
       "      <th>offensive_language</th>\n",
       "      <th>neither</th>\n",
       "      <th>class</th>\n",
       "      <th>tweet</th>\n",
       "    </tr>\n",
       "  </thead>\n",
       "  <tbody>\n",
       "    <tr>\n",
       "      <th>0</th>\n",
       "      <td>10831</td>\n",
       "      <td>3</td>\n",
       "      <td>0</td>\n",
       "      <td>2</td>\n",
       "      <td>1</td>\n",
       "      <td>1</td>\n",
       "      <td>i hit raw while im listening to papoose</td>\n",
       "    </tr>\n",
       "    <tr>\n",
       "      <th>1</th>\n",
       "      <td>17237</td>\n",
       "      <td>3</td>\n",
       "      <td>0</td>\n",
       "      <td>3</td>\n",
       "      <td>0</td>\n",
       "      <td>1</td>\n",
       "      <td>yes mimi bitch yo dumb ass got played</td>\n",
       "    </tr>\n",
       "    <tr>\n",
       "      <th>2</th>\n",
       "      <td>22311</td>\n",
       "      <td>3</td>\n",
       "      <td>1</td>\n",
       "      <td>2</td>\n",
       "      <td>0</td>\n",
       "      <td>1</td>\n",
       "      <td>these people at jury selection are retarded</td>\n",
       "    </tr>\n",
       "    <tr>\n",
       "      <th>3</th>\n",
       "      <td>12929</td>\n",
       "      <td>6</td>\n",
       "      <td>0</td>\n",
       "      <td>5</td>\n",
       "      <td>1</td>\n",
       "      <td>1</td>\n",
       "      <td>lol shawty at sheets gave me her number haha i...</td>\n",
       "    </tr>\n",
       "    <tr>\n",
       "      <th>4</th>\n",
       "      <td>16419</td>\n",
       "      <td>3</td>\n",
       "      <td>0</td>\n",
       "      <td>3</td>\n",
       "      <td>0</td>\n",
       "      <td>1</td>\n",
       "      <td>these bitches aint shit  amp  pussy is my grea...</td>\n",
       "    </tr>\n",
       "  </tbody>\n",
       "</table>\n",
       "</div>"
      ],
      "text/plain": [
       "   Unnamed: 0  count  hate_speech  offensive_language  neither  class  \\\n",
       "0       10831      3            0                   2        1      1   \n",
       "1       17237      3            0                   3        0      1   \n",
       "2       22311      3            1                   2        0      1   \n",
       "3       12929      6            0                   5        1      1   \n",
       "4       16419      3            0                   3        0      1   \n",
       "\n",
       "                                               tweet  \n",
       "0            i hit raw while im listening to papoose  \n",
       "1              yes mimi bitch yo dumb ass got played  \n",
       "2        these people at jury selection are retarded  \n",
       "3  lol shawty at sheets gave me her number haha i...  \n",
       "4  these bitches aint shit  amp  pussy is my grea...  "
      ]
     },
     "execution_count": 76,
     "metadata": {},
     "output_type": "execute_result"
    }
   ],
   "source": [
    "df_train.head()"
   ]
  },
  {
   "cell_type": "code",
   "execution_count": 77,
   "id": "76b2bd89",
   "metadata": {},
   "outputs": [],
   "source": [
    "x_train, y_train = df_train[\"tweet\"], df_train[\"class\"]\n",
    "x_val, y_val = df_val[\"tweet\"], df_val[\"class\"]\n",
    "x_test, y_test = df_test[\"tweet\"], df_test[\"class\"]"
   ]
  },
  {
   "cell_type": "code",
   "execution_count": 78,
   "id": "53635f46",
   "metadata": {},
   "outputs": [],
   "source": [
    "from tensorflow.keras.layers import TextVectorization\n",
    "\n",
    "vectorizer = TextVectorization(max_tokens=20000, output_sequence_length=400)\n",
    "text_ds = tf.data.Dataset.from_tensor_slices(x_train).batch(128)\n",
    "vectorizer.adapt(text_ds)"
   ]
  },
  {
   "cell_type": "code",
   "execution_count": 79,
   "id": "a4f1d02e",
   "metadata": {},
   "outputs": [],
   "source": [
    "voc = vectorizer.get_vocabulary()\n",
    "word_index = dict(zip(voc, range(len(voc))))"
   ]
  },
  {
   "cell_type": "code",
   "execution_count": 80,
   "id": "82f97ef1",
   "metadata": {},
   "outputs": [
    {
     "name": "stdout",
     "output_type": "stream",
     "text": [
      "Found 400000 word vectors.\n"
     ]
    }
   ],
   "source": [
    "path_to_glove_file = \"glove.6B.100d.txt\"\n",
    "\n",
    "embeddings_index = {}\n",
    "with open(path_to_glove_file, encoding=\"utf8\") as f:\n",
    "    for line in f:\n",
    "        word, coefs = line.split(maxsplit=1)\n",
    "        coefs = np.fromstring(coefs, \"f\", sep=\" \")\n",
    "        embeddings_index[word] = coefs\n",
    "\n",
    "print(\"Found %s word vectors.\" % len(embeddings_index))"
   ]
  },
  {
   "cell_type": "code",
   "execution_count": 81,
   "id": "32075cd7",
   "metadata": {},
   "outputs": [
    {
     "name": "stdout",
     "output_type": "stream",
     "text": [
      "Converted 5888 words (738 misses)\n"
     ]
    }
   ],
   "source": [
    "num_tokens = len(voc) + 2\n",
    "embedding_dim = 100\n",
    "hits = 0\n",
    "misses = 0\n",
    "\n",
    "# Prepare embedding matrix\n",
    "embedding_matrix = np.zeros((num_tokens, embedding_dim))\n",
    "for word, i in word_index.items():\n",
    "    embedding_vector = embeddings_index.get(word)\n",
    "    if embedding_vector is not None:\n",
    "        # Words not found in embedding index will be all-zeros.\n",
    "        # This includes the representation for \"padding\" and \"OOV\"\n",
    "        embedding_matrix[i] = embedding_vector\n",
    "        hits += 1\n",
    "    else:\n",
    "        misses += 1\n",
    "print(\"Converted %d words (%d misses)\" % (hits, misses))"
   ]
  },
  {
   "cell_type": "code",
   "execution_count": 82,
   "id": "355905c9",
   "metadata": {},
   "outputs": [],
   "source": [
    "from tensorflow.keras.layers import Embedding\n",
    "\n",
    "embedding_layer = Embedding(\n",
    "    num_tokens,\n",
    "    embedding_dim,\n",
    "    embeddings_initializer=keras.initializers.Constant(embedding_matrix),\n",
    "    trainable=False,\n",
    ")"
   ]
  },
  {
   "cell_type": "code",
   "execution_count": 83,
   "id": "e81f5364",
   "metadata": {},
   "outputs": [
    {
     "name": "stdout",
     "output_type": "stream",
     "text": [
      "Model: \"model_3\"\n",
      "_________________________________________________________________\n",
      "Layer (type)                 Output Shape              Param #   \n",
      "=================================================================\n",
      "input_4 (InputLayer)         [(None, None)]            0         \n",
      "_________________________________________________________________\n",
      "embedding_3 (Embedding)      (None, None, 100)         662800    \n",
      "_________________________________________________________________\n",
      "conv1d_9 (Conv1D)            (None, None, 128)         64128     \n",
      "_________________________________________________________________\n",
      "max_pooling1d_6 (MaxPooling1 (None, None, 128)         0         \n",
      "_________________________________________________________________\n",
      "conv1d_10 (Conv1D)           (None, None, 128)         82048     \n",
      "_________________________________________________________________\n",
      "max_pooling1d_7 (MaxPooling1 (None, None, 128)         0         \n",
      "_________________________________________________________________\n",
      "conv1d_11 (Conv1D)           (None, None, 128)         82048     \n",
      "_________________________________________________________________\n",
      "global_max_pooling1d_3 (Glob (None, 128)               0         \n",
      "_________________________________________________________________\n",
      "dense_6 (Dense)              (None, 128)               16512     \n",
      "_________________________________________________________________\n",
      "dropout_3 (Dropout)          (None, 128)               0         \n",
      "_________________________________________________________________\n",
      "dense_7 (Dense)              (None, 3)                 387       \n",
      "=================================================================\n",
      "Total params: 907,923\n",
      "Trainable params: 245,123\n",
      "Non-trainable params: 662,800\n",
      "_________________________________________________________________\n"
     ]
    }
   ],
   "source": [
    "from tensorflow.keras import layers\n",
    "\n",
    "int_sequences_input = keras.Input(shape=(None,), dtype=\"int64\")\n",
    "embedded_sequences = embedding_layer(int_sequences_input)\n",
    "x = layers.Conv1D(128, 5, padding='same', activation=\"relu\")(embedded_sequences)\n",
    "x = layers.MaxPooling1D(5)(x)\n",
    "x = layers.Conv1D(128, 5, padding='same', activation=\"relu\")(x)\n",
    "x = layers.MaxPooling1D(5)(x)\n",
    "x = layers.Conv1D(128, 5, padding='same', activation=\"relu\")(x)\n",
    "x = layers.GlobalMaxPooling1D()(x)\n",
    "x = layers.Dense(128, activation=\"relu\")(x)\n",
    "x = layers.Dropout(0.5)(x)\n",
    "preds = layers.Dense(len(classes), activation=\"softmax\")(x)\n",
    "model = keras.Model(int_sequences_input, preds)\n",
    "model.summary()"
   ]
  },
  {
   "cell_type": "code",
   "execution_count": 84,
   "id": "db195624",
   "metadata": {},
   "outputs": [],
   "source": [
    "x_train_vec = vectorizer(np.array([[s] for s in x_train])).numpy()\n",
    "x_val_vec = vectorizer(np.array([[s] for s in x_val])).numpy()\n",
    "x_test_vec = vectorizer(np.array([[s] for s in x_test])).numpy()\n",
    "\n",
    "y_train_vec = np.array(y_train)\n",
    "y_val_vec = np.array(y_val)\n",
    "y_test_vec = np.array(y_test)"
   ]
  },
  {
   "cell_type": "code",
   "execution_count": 85,
   "id": "86408c17",
   "metadata": {},
   "outputs": [
    {
     "name": "stdout",
     "output_type": "stream",
     "text": [
      "Epoch 1/10\n",
      "117/117 [==============================] - 2s 12ms/step - loss: 0.7731 - accuracy: 0.7221 - val_loss: 0.6325 - val_accuracy: 0.7829\n",
      "Epoch 2/10\n",
      "117/117 [==============================] - 1s 10ms/step - loss: 0.6541 - accuracy: 0.7711 - val_loss: 0.5722 - val_accuracy: 0.7856\n",
      "Epoch 3/10\n",
      "117/117 [==============================] - 1s 10ms/step - loss: 0.5548 - accuracy: 0.7996 - val_loss: 0.4950 - val_accuracy: 0.8330\n",
      "Epoch 4/10\n",
      "117/117 [==============================] - 1s 10ms/step - loss: 0.4837 - accuracy: 0.8364 - val_loss: 0.4442 - val_accuracy: 0.8472\n",
      "Epoch 5/10\n",
      "117/117 [==============================] - 1s 10ms/step - loss: 0.4131 - accuracy: 0.8639 - val_loss: 0.4103 - val_accuracy: 0.8564\n",
      "Epoch 6/10\n",
      "117/117 [==============================] - 1s 10ms/step - loss: 0.3682 - accuracy: 0.8781 - val_loss: 0.3951 - val_accuracy: 0.8604\n",
      "Epoch 7/10\n",
      "117/117 [==============================] - 1s 10ms/step - loss: 0.3199 - accuracy: 0.8972 - val_loss: 0.3897 - val_accuracy: 0.8612\n",
      "Epoch 8/10\n",
      "117/117 [==============================] - 1s 10ms/step - loss: 0.2889 - accuracy: 0.9085 - val_loss: 0.3907 - val_accuracy: 0.8618\n",
      "Epoch 9/10\n",
      "117/117 [==============================] - 1s 10ms/step - loss: 0.2618 - accuracy: 0.9193 - val_loss: 0.3872 - val_accuracy: 0.8685\n",
      "Epoch 10/10\n",
      "117/117 [==============================] - 1s 10ms/step - loss: 0.2201 - accuracy: 0.9282 - val_loss: 0.3950 - val_accuracy: 0.8634\n"
     ]
    }
   ],
   "source": [
    "model.compile(loss=\"sparse_categorical_crossentropy\", optimizer=keras.optimizers.Adam(learning_rate=1e-4), metrics=\"accuracy\")\n",
    "hist = model.fit(x_train_vec, y_train_vec, epochs=10, validation_data=(x_val_vec, y_val_vec))"
   ]
  },
  {
   "cell_type": "code",
   "execution_count": 89,
   "id": "14179798",
   "metadata": {},
   "outputs": [
    {
     "name": "stdout",
     "output_type": "stream",
     "text": [
      "dict_keys(['loss', 'accuracy', 'val_loss', 'val_accuracy'])\n"
     ]
    }
   ],
   "source": [
    "print(hist.history.keys())"
   ]
  },
  {
   "cell_type": "code",
   "execution_count": 90,
   "id": "2e12580f",
   "metadata": {},
   "outputs": [
    {
     "data": {
      "image/png": "[encoded data removed]",
      "text/plain": [
       "<Figure size 432x288 with 1 Axes>"
      ]
     },
     "metadata": {
      "needs_background": "light"
     },
     "output_type": "display_data"
    },
    {
     "data": {
      "image/png": "[encoded data removed]",
      "text/plain": [
       "<Figure size 432x288 with 1 Axes>"
      ]
     },
     "metadata": {
      "needs_background": "light"
     },
     "output_type": "display_data"
    }
   ],
   "source": [
    "def plot_history(model_history,keys):\n",
    "    m,val_m = keys\n",
    "    plt.plot(model_history.history[m])\n",
    "    plt.plot(model_history.history[val_m])\n",
    "    plt.ylabel(m)\n",
    "    plt.xlabel('epoch')\n",
    "    plt.legend(['train', 'test'], loc='upper left')\n",
    "    plt.show()\n",
    "\n",
    "plot_history(hist,['accuracy','val_accuracy'])\n",
    "plot_history(hist,['loss','val_loss'])\n"
   ]
  },
  {
   "cell_type": "code",
   "execution_count": 91,
   "id": "6659afb8",
   "metadata": {},
   "outputs": [
    {
     "name": "stdout",
     "output_type": "stream",
     "text": [
      "(21,) (14532,) (2795,)\n",
      "              precision    recall  f1-score   support\n",
      "\n",
      "           0       0.57      0.01      0.02       998\n",
      "           1       0.89      0.96      0.92     13412\n",
      "           2       0.75      0.72      0.74      2938\n",
      "\n",
      "    accuracy                           0.86     17348\n",
      "   macro avg       0.74      0.56      0.56     17348\n",
      "weighted avg       0.85      0.86      0.84     17348\n",
      "\n"
     ]
    }
   ],
   "source": [
    "from sklearn.metrics import classification_report\n",
    "\n",
    "y_d = model.predict(x_test_vec)\n",
    "y_d = np.argmax(y_d, axis=1)\n",
    "y_t =y_test_vec\n",
    "print(y_d[y_d==0].shape, y_d[y_d==1].shape, y_d[y_d==2].shape)\n",
    "print(classification_report(y_t, y_d))"
   ]
  },
  {
   "cell_type": "code",
   "execution_count": null,
   "id": "61a4da7a",
   "metadata": {},
   "outputs": [],
   "source": []
  },
  {
   "cell_type": "code",
   "execution_count": null,
   "id": "8cf041cd",
   "metadata": {},
   "outputs": [],
   "source": []
  }
 ],
 "metadata": {
  "kernelspec": {
   "display_name": "Python3 (3.9)",
   "language": "python",
   "name": "condaenv"
  },
  "language_info": {
   "codemirror_mode": {
    "name": "ipython",
    "version": 3
   },
   "file_extension": ".py",
   "mimetype": "text/x-python",
   "name": "python",
   "nbconvert_exporter": "python",
   "pygments_lexer": "ipython3",
   "version": "3.9.12"
  }
 },
 "nbformat": 4,
 "nbformat_minor": 5
}
