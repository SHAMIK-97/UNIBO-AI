{
 "cells": [
  {
   "cell_type": "markdown",
   "id": "a1d1acdc",
   "metadata": {},
   "source": [
    "# 0. Library imports and parameter declaration"
   ]
  },
  {
   "cell_type": "code",
   "execution_count": 47,
   "id": "8421a82e",
   "metadata": {},
   "outputs": [],
   "source": [
    "import pandas as pd\n",
    "import numpy as np\n",
    "from matplotlib import pyplot as plt\n",
    "from sklearn.preprocessing import OrdinalEncoder\n",
    "from sklearn.compose import ColumnTransformer\n",
    "from sklearn.model_selection import train_test_split, GridSearchCV\n",
    "from sklearn.tree import DecisionTreeClassifier\n",
    "from sklearn.neighbors import KNeighborsClassifier\n",
    "from sklearn.metrics import accuracy_score, plot_confusion_matrix\n",
    "\n",
    "random_state = 42 # set in order to guarantee repetability of results\n",
    "data_url = 'exam_2021_01_27.csv' # path to the dataset\n",
    "sep = ',' #separator for the dataset's csv file\n",
    "header = None #indication for the header in the read_csv function\n",
    "train_size = 0.8"
   ]
  },
  {
   "cell_type": "markdown",
   "id": "7549c0b2",
   "metadata": {},
   "source": [
    "# 1. Load and show the data\n",
    "\n",
    "First the dataset is loaded from the csv and the first rows are shown:"
   ]
  },
  {
   "cell_type": "code",
   "execution_count": 5,
   "id": "237bcc42",
   "metadata": {},
   "outputs": [
    {
     "data": {
      "text/html": [
       "<div>\n",
       "<style scoped>\n",
       "    .dataframe tbody tr th:only-of-type {\n",
       "        vertical-align: middle;\n",
       "    }\n",
       "\n",
       "    .dataframe tbody tr th {\n",
       "        vertical-align: top;\n",
       "    }\n",
       "\n",
       "    .dataframe thead th {\n",
       "        text-align: right;\n",
       "    }\n",
       "</style>\n",
       "<table border=\"1\" class=\"dataframe\">\n",
       "  <thead>\n",
       "    <tr style=\"text-align: right;\">\n",
       "      <th></th>\n",
       "      <th>0</th>\n",
       "      <th>1</th>\n",
       "      <th>2</th>\n",
       "      <th>3</th>\n",
       "      <th>4</th>\n",
       "    </tr>\n",
       "  </thead>\n",
       "  <tbody>\n",
       "    <tr>\n",
       "      <th>0</th>\n",
       "      <td>5.1</td>\n",
       "      <td>3.5</td>\n",
       "      <td>a</td>\n",
       "      <td>NaN</td>\n",
       "      <td>0</td>\n",
       "    </tr>\n",
       "    <tr>\n",
       "      <th>1</th>\n",
       "      <td>4.9</td>\n",
       "      <td>3.0</td>\n",
       "      <td>a</td>\n",
       "      <td>NaN</td>\n",
       "      <td>0</td>\n",
       "    </tr>\n",
       "    <tr>\n",
       "      <th>2</th>\n",
       "      <td>NaN</td>\n",
       "      <td>3.2</td>\n",
       "      <td>a</td>\n",
       "      <td>NaN</td>\n",
       "      <td>0</td>\n",
       "    </tr>\n",
       "    <tr>\n",
       "      <th>3</th>\n",
       "      <td>4.6</td>\n",
       "      <td>NaN</td>\n",
       "      <td>a</td>\n",
       "      <td>0.2</td>\n",
       "      <td>0</td>\n",
       "    </tr>\n",
       "    <tr>\n",
       "      <th>4</th>\n",
       "      <td>5.0</td>\n",
       "      <td>3.6</td>\n",
       "      <td>a</td>\n",
       "      <td>0.2</td>\n",
       "      <td>0</td>\n",
       "    </tr>\n",
       "  </tbody>\n",
       "</table>\n",
       "</div>"
      ],
      "text/plain": [
       "     0    1  2    3  4\n",
       "0  5.1  3.5  a  NaN  0\n",
       "1  4.9  3.0  a  NaN  0\n",
       "2  NaN  3.2  a  NaN  0\n",
       "3  4.6  NaN  a  0.2  0\n",
       "4  5.0  3.6  a  0.2  0"
      ]
     },
     "execution_count": 5,
     "metadata": {},
     "output_type": "execute_result"
    }
   ],
   "source": [
    "df = pd.read_csv(data_url, sep=sep, header=header)\n",
    "df.head()"
   ]
  },
  {
   "cell_type": "markdown",
   "id": "a9a1f7be",
   "metadata": {},
   "source": [
    "Then, a short description of the dataset is shown:"
   ]
  },
  {
   "cell_type": "code",
   "execution_count": 6,
   "id": "cf5dafcf",
   "metadata": {},
   "outputs": [
    {
     "data": {
      "text/html": [
       "<div>\n",
       "<style scoped>\n",
       "    .dataframe tbody tr th:only-of-type {\n",
       "        vertical-align: middle;\n",
       "    }\n",
       "\n",
       "    .dataframe tbody tr th {\n",
       "        vertical-align: top;\n",
       "    }\n",
       "\n",
       "    .dataframe thead th {\n",
       "        text-align: right;\n",
       "    }\n",
       "</style>\n",
       "<table border=\"1\" class=\"dataframe\">\n",
       "  <thead>\n",
       "    <tr style=\"text-align: right;\">\n",
       "      <th></th>\n",
       "      <th>0</th>\n",
       "      <th>1</th>\n",
       "      <th>3</th>\n",
       "      <th>4</th>\n",
       "    </tr>\n",
       "  </thead>\n",
       "  <tbody>\n",
       "    <tr>\n",
       "      <th>count</th>\n",
       "      <td>141.000000</td>\n",
       "      <td>140.000000</td>\n",
       "      <td>137.000000</td>\n",
       "      <td>150.000000</td>\n",
       "    </tr>\n",
       "    <tr>\n",
       "      <th>mean</th>\n",
       "      <td>5.897872</td>\n",
       "      <td>3.036429</td>\n",
       "      <td>1.290511</td>\n",
       "      <td>1.000000</td>\n",
       "    </tr>\n",
       "    <tr>\n",
       "      <th>std</th>\n",
       "      <td>0.820232</td>\n",
       "      <td>0.437654</td>\n",
       "      <td>0.733934</td>\n",
       "      <td>0.819232</td>\n",
       "    </tr>\n",
       "    <tr>\n",
       "      <th>min</th>\n",
       "      <td>4.300000</td>\n",
       "      <td>2.000000</td>\n",
       "      <td>0.100000</td>\n",
       "      <td>0.000000</td>\n",
       "    </tr>\n",
       "    <tr>\n",
       "      <th>25%</th>\n",
       "      <td>5.200000</td>\n",
       "      <td>2.800000</td>\n",
       "      <td>0.400000</td>\n",
       "      <td>0.000000</td>\n",
       "    </tr>\n",
       "    <tr>\n",
       "      <th>50%</th>\n",
       "      <td>5.800000</td>\n",
       "      <td>3.000000</td>\n",
       "      <td>1.400000</td>\n",
       "      <td>1.000000</td>\n",
       "    </tr>\n",
       "    <tr>\n",
       "      <th>75%</th>\n",
       "      <td>6.400000</td>\n",
       "      <td>3.300000</td>\n",
       "      <td>1.800000</td>\n",
       "      <td>2.000000</td>\n",
       "    </tr>\n",
       "    <tr>\n",
       "      <th>max</th>\n",
       "      <td>7.900000</td>\n",
       "      <td>4.400000</td>\n",
       "      <td>2.500000</td>\n",
       "      <td>2.000000</td>\n",
       "    </tr>\n",
       "  </tbody>\n",
       "</table>\n",
       "</div>"
      ],
      "text/plain": [
       "                0           1           3           4\n",
       "count  141.000000  140.000000  137.000000  150.000000\n",
       "mean     5.897872    3.036429    1.290511    1.000000\n",
       "std      0.820232    0.437654    0.733934    0.819232\n",
       "min      4.300000    2.000000    0.100000    0.000000\n",
       "25%      5.200000    2.800000    0.400000    0.000000\n",
       "50%      5.800000    3.000000    1.400000    1.000000\n",
       "75%      6.400000    3.300000    1.800000    2.000000\n",
       "max      7.900000    4.400000    2.500000    2.000000"
      ]
     },
     "execution_count": 6,
     "metadata": {},
     "output_type": "execute_result"
    }
   ],
   "source": [
    "df.describe() # it shows only the description of numerical data"
   ]
  },
  {
   "cell_type": "code",
   "execution_count": 8,
   "id": "db6b481e",
   "metadata": {},
   "outputs": [
    {
     "data": {
      "text/html": [
       "<div>\n",
       "<style scoped>\n",
       "    .dataframe tbody tr th:only-of-type {\n",
       "        vertical-align: middle;\n",
       "    }\n",
       "\n",
       "    .dataframe tbody tr th {\n",
       "        vertical-align: top;\n",
       "    }\n",
       "\n",
       "    .dataframe thead th {\n",
       "        text-align: right;\n",
       "    }\n",
       "</style>\n",
       "<table border=\"1\" class=\"dataframe\">\n",
       "  <thead>\n",
       "    <tr style=\"text-align: right;\">\n",
       "      <th></th>\n",
       "      <th>2</th>\n",
       "    </tr>\n",
       "  </thead>\n",
       "  <tbody>\n",
       "    <tr>\n",
       "      <th>count</th>\n",
       "      <td>150</td>\n",
       "    </tr>\n",
       "    <tr>\n",
       "      <th>unique</th>\n",
       "      <td>4</td>\n",
       "    </tr>\n",
       "    <tr>\n",
       "      <th>top</th>\n",
       "      <td>a</td>\n",
       "    </tr>\n",
       "    <tr>\n",
       "      <th>freq</th>\n",
       "      <td>50</td>\n",
       "    </tr>\n",
       "  </tbody>\n",
       "</table>\n",
       "</div>"
      ],
      "text/plain": [
       "          2\n",
       "count   150\n",
       "unique    4\n",
       "top       a\n",
       "freq     50"
      ]
     },
     "execution_count": 8,
     "metadata": {},
     "output_type": "execute_result"
    }
   ],
   "source": [
    "cat_attributes = df.dtypes.loc[df.dtypes=='object'].index.values #recovering indexes for categorical attributes\n",
    "df[cat_attributes].describe()"
   ]
  },
  {
   "cell_type": "markdown",
   "id": "2a4c5ce1",
   "metadata": {},
   "source": [
    "And finally, the number of rows and columns is printed:"
   ]
  },
  {
   "cell_type": "code",
   "execution_count": 76,
   "id": "bc51d784",
   "metadata": {},
   "outputs": [
    {
     "name": "stdout",
     "output_type": "stream",
     "text": [
      "The number of rows in the dataset is 150\n",
      "The number of columns in the dataset is 5\n"
     ]
    }
   ],
   "source": [
    "print(\"The number of rows in the dataset is {}\".format(df.shape[0]))\n",
    "print(\"The number of columns in the dataset is {}\".format(df.shape[1]))"
   ]
  },
  {
   "cell_type": "markdown",
   "id": "45bdb34d",
   "metadata": {},
   "source": [
    "# 2. Dropping null values\n",
    "Since the dataset contains null values, they must be dropped"
   ]
  },
  {
   "cell_type": "code",
   "execution_count": 77,
   "id": "650f395c",
   "metadata": {},
   "outputs": [
    {
     "name": "stdout",
     "output_type": "stream",
     "text": [
      "After removal, the number of rows in the dataset is 122\n"
     ]
    }
   ],
   "source": [
    "df_c = df.dropna(axis=0) # dropping rows (axis is 0)\n",
    "print(\"After removal, the number of rows in the dataset is {}\".format(df_c.shape[0]))"
   ]
  },
  {
   "cell_type": "markdown",
   "id": "76471307",
   "metadata": {},
   "source": [
    "# 3. Converting ordinal column to numeric"
   ]
  },
  {
   "cell_type": "code",
   "execution_count": 78,
   "id": "d2941e4d",
   "metadata": {},
   "outputs": [],
   "source": [
    "focus = [2] # list of ordinal attributes\n",
    "transf_dtype = np.int32 # type to be used when converting\n",
    "\n",
    "\n",
    "ordinal_transformer = OrdinalEncoder(dtype = transf_dtype) # we assume the values are encoded so that lexicographic order = intended order\n",
    "df_c2 = df_c.copy()\n",
    "df_c2[focus] = ordinal_transformer.fit_transform(df_c[focus])"
   ]
  },
  {
   "cell_type": "markdown",
   "id": "ad63501b",
   "metadata": {},
   "source": [
    "# 4. Train and Test set split\n",
    "Then the dataset must be split first in X and y (respectively the independent attributes data matrix and the class vector) and then in training and test set."
   ]
  },
  {
   "cell_type": "code",
   "execution_count": 79,
   "id": "9faf4fee",
   "metadata": {},
   "outputs": [
    {
     "name": "stdout",
     "output_type": "stream",
     "text": [
      "Xtrain shape: (97, 4)\n",
      "Xtest shape: (25, 4)\n"
     ]
    }
   ],
   "source": [
    "class_col = 4 # select the last column\n",
    "X = df_c2.drop(class_col, axis=1)\n",
    "y = df_c2[class_col]\n",
    "\n",
    "Xtrain, Xtest, ytrain, ytest = train_test_split(X, y, random_state=random_state, train_size = train_size)\n",
    "print(\"Xtrain shape: {}\".format(Xtrain.shape))\n",
    "print(\"Xtest shape: {}\".format(Xtest.shape))"
   ]
  },
  {
   "cell_type": "markdown",
   "id": "5867b289",
   "metadata": {},
   "source": [
    "# 5. Train two models\n",
    "\n",
    "The first model chosen for classification is a decision tree. In order to tune the main hyperparameters (max_depth, criterion and min_samples_split) a grid search is performed\n",
    "\n",
    "The second model is a KNN-classifier. GridSearch is used also to tune together weights and n_neigbors"
   ]
  },
  {
   "cell_type": "markdown",
   "id": "f04e4556",
   "metadata": {},
   "source": [
    "# 6. Tune model1\n"
   ]
  },
  {
   "cell_type": "code",
   "execution_count": 87,
   "id": "dfcc9944",
   "metadata": {},
   "outputs": [
    {
     "name": "stdout",
     "output_type": "stream",
     "text": [
      "The best found hyperparameters are: {'criterion': 'entropy', 'max_depth': 3, 'min_samples_split': 2}\n",
      "The corresponding accuracy on validation is: 0.975\n"
     ]
    }
   ],
   "source": [
    "score = 'accuracy'\n",
    "cv = 5 #number of split for cross validation\n",
    "model1_param = {'criterion':['gini', 'entropy'], 'max_depth':list(range(1,10)), 'min_samples_split': range(2,10)}\n",
    "model1_est = DecisionTreeClassifier(random_state=random_state)\n",
    "\n",
    "\n",
    "model1 = GridSearchCV(model1_est, model1_param, scoring=score, cv=5) \n",
    "model1.fit(X,y)\n",
    "\n",
    "print(\"The best found hyperparameters are: {}\".format(model1.best_params_))\n",
    "print(\"The corresponding {} on validation is: {}\".format(score, model1.best_score_*100))"
   ]
  },
  {
   "cell_type": "markdown",
   "id": "6407dcc7",
   "metadata": {},
   "source": [
    "# 7. Produce results on test set for model1"
   ]
  },
  {
   "cell_type": "code",
   "execution_count": 86,
   "id": "a1324534",
   "metadata": {},
   "outputs": [
    {
     "name": "stdout",
     "output_type": "stream",
     "text": [
      "The accuracy on test set is 96.00%\n"
     ]
    },
    {
     "data": {
      "image/png": "[encoded data removed]",
      "text/plain": [
       "<Figure size 432x288 with 2 Axes>"
      ]
     },
     "metadata": {
      "needs_background": "light"
     },
     "output_type": "display_data"
    }
   ],
   "source": [
    "ypred1 = model1.predict(Xtest)\n",
    "acc1 = accuracy_score(ytest, ypred1)\n",
    "print(\"The accuracy on test set is {:.2f}%\".format(acc1*100))\n",
    "plot_confusion_matrix(model1, Xtest, ytest, normalize='pred');\n"
   ]
  },
  {
   "cell_type": "markdown",
   "id": "05288add",
   "metadata": {},
   "source": [
    "# 8. Tune model2"
   ]
  },
  {
   "cell_type": "code",
   "execution_count": 82,
   "id": "fa2b91fa",
   "metadata": {},
   "outputs": [
    {
     "name": "stdout",
     "output_type": "stream",
     "text": [
      "The best found hyperparameters are: {'n_neighbors': 5, 'weights': 'distance'}\n",
      "The corresponding accuracy on validation is: 0.9586666666666666\n"
     ]
    }
   ],
   "source": [
    "score = 'accuracy'\n",
    "cv = 5 #number of split for cross validation\n",
    "knn_param = {'weights':['distance', 'uniform'], 'n_neighbors':[3,5,7,9,11]}\n",
    "\n",
    "\n",
    "model2 = GridSearchCV(KNeighborsClassifier(), knn_param, scoring=score, cv=5) \n",
    "model2.fit(X,y)\n",
    "\n",
    "print(\"The best found hyperparameters are: {}\".format(model2.best_params_))\n",
    "print(\"The corresponding {} on validation is: {}\".format(score, model2.best_score_))"
   ]
  },
  {
   "cell_type": "markdown",
   "id": "989c56c2",
   "metadata": {},
   "source": [
    "# 9. Produce results on test set for model2"
   ]
  },
  {
   "cell_type": "code",
   "execution_count": 84,
   "id": "13ae6fb6",
   "metadata": {},
   "outputs": [
    {
     "name": "stdout",
     "output_type": "stream",
     "text": [
      "The accuracy on test set is 100.00%\n"
     ]
    },
    {
     "data": {
      "image/png": "[encoded data removed]",
      "text/plain": [
       "<Figure size 432x288 with 2 Axes>"
      ]
     },
     "metadata": {
      "needs_background": "light"
     },
     "output_type": "display_data"
    }
   ],
   "source": [
    "ypred2 = model2.predict(Xtest)\n",
    "acc1 = accuracy_score(ytest, ypred2)\n",
    "print(\"The accuracy on test set is {:.2f}%\".format(acc1*100))\n",
    "plot_confusion_matrix(model2, Xtest, ytest, normalize='pred');\n"
   ]
  },
  {
   "cell_type": "code",
   "execution_count": null,
   "id": "f91838d0",
   "metadata": {},
   "outputs": [],
   "source": []
  }
 ],
 "metadata": {
  "kernelspec": {
   "display_name": "Python 3 (ipykernel)",
   "language": "python",
   "name": "python3"
  },
  "language_info": {
   "codemirror_mode": {
    "name": "ipython",
    "version": 3
   },
   "file_extension": ".py",
   "mimetype": "text/x-python",
   "name": "python",
   "nbconvert_exporter": "python",
   "pygments_lexer": "ipython3",
   "version": "3.9.0"
  }
 },
 "nbformat": 4,
 "nbformat_minor": 5
}
